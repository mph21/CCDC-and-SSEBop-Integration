{
 "cells": [
  {
   "cell_type": "markdown",
   "id": "e6ea6cd2",
   "metadata": {},
   "source": [
    "# Automated Eta for a year of landsat\n",
    "###### Takes X and Y point to select landsat scences. Then outputs SSEBop Results to a google drive folder for 2019."
   ]
  },
  {
   "cell_type": "code",
   "execution_count": 1,
   "id": "438b624c",
   "metadata": {
    "scrolled": true
   },
   "outputs": [
    {
     "name": "stdout",
     "output_type": "stream",
     "text": [
      "-1075788.8424843925\n",
      "1681830.8043002065\n",
      "-108.3269461070002\n",
      "37.54617791510794\n"
     ]
    },
    {
     "name": "stderr",
     "output_type": "stream",
     "text": [
      "C:\\Users\\mhiestand\\Anaconda3\\envs\\SSEBop-envII\\lib\\site-packages\\pyproj\\crs\\crs.py:141: FutureWarning: '+init=<authority>:<code>' syntax is deprecated. '<authority>:<code>' is the preferred initialization method. When making the change, be mindful of axis order changes: https://pyproj4.github.io/pyproj/stable/gotchas.html#axis-order-changes-in-proj-6\n",
      "  in_crs_string = _prepare_from_proj_string(in_crs_string)\n",
      "C:\\Users\\mhiestand\\Anaconda3\\envs\\SSEBop-envII\\lib\\site-packages\\pyproj\\crs\\crs.py:141: FutureWarning: '+init=<authority>:<code>' syntax is deprecated. '<authority>:<code>' is the preferred initialization method. When making the change, be mindful of axis order changes: https://pyproj4.github.io/pyproj/stable/gotchas.html#axis-order-changes-in-proj-6\n",
      "  in_crs_string = _prepare_from_proj_string(in_crs_string)\n",
      "C:\\Users\\mhiestand\\AppData\\Local\\Temp\\2\\ipykernel_20408\\1515850669.py:14: FutureWarning: This function is deprecated. See: https://pyproj4.github.io/pyproj/stable/gotchas.html#upgrading-to-pyproj-2-from-pyproj-1\n",
      "  x2,y2 = transform(inProj,outProj,xnot,ynot)\n"
     ]
    }
   ],
   "source": [
    "#Get X and Y \n",
    "from pyproj import Proj, transform\n",
    "\n",
    "\n",
    "xnot = -1075788.8424843925\n",
    "ynot = 1681830.8043002065\n",
    "\n",
    "\n",
    "print(xnot)\n",
    "print(ynot)\n",
    "\n",
    "#Reproject X and Y to epsg 4326\n",
    "inProj = Proj(init='epsg:5070')\n",
    "outProj = Proj(init='epsg:4326')\n",
    "x2,y2 = transform(inProj,outProj,xnot,ynot)\n",
    "print(x2)\n",
    "print(y2)\n",
    "\n"
   ]
  },
  {
   "cell_type": "code",
   "execution_count": 2,
   "id": "aa6c1ed9",
   "metadata": {},
   "outputs": [],
   "source": [
    "import numpy as np\n",
    "import rasterio\n",
    "from rasterio.plot import show\n",
    "import xarray as xr\n",
    "import pandas as pd\n",
    "\n",
    "import pprint\n",
    "\n",
    "from IPython.display import Image\n",
    "import openet.ssebop as ssebop\n",
    "\n",
    "import ee\n",
    "import gcloud\n",
    "# Initialize the library.\n",
    "#ee.Authenticate()\n",
    "#ee.Authenticate(auth_mode='gcloud')\n",
    "ee.Initialize()"
   ]
  },
  {
   "cell_type": "code",
   "execution_count": 3,
   "id": "60d4ae3d",
   "metadata": {},
   "outputs": [],
   "source": [
    "#Image perameters and color scale\n",
    "ndvi_palette = ['#EFE7E1', '#003300']\n",
    "et_palette = [\n",
    "    'DEC29B', 'E6CDA1', 'EDD9A6', 'F5E4A9', 'FFF4AD', 'C3E683', '6BCC5C', \n",
    "    '3BB369', '20998F', '1C8691', '16678A', '114982', '0B2C7A']\n",
    "viridis_palette = ['440154', '433982', '30678D', '218F8B', '36B677', '8ED542', 'FDE725']\n",
    "\n",
    "image_size = 768\n",
    "\n"
   ]
  },
  {
   "cell_type": "markdown",
   "id": "38cd7ac1",
   "metadata": {},
   "source": [
    " ## Build Landsat Collection "
   ]
  },
  {
   "cell_type": "code",
   "execution_count": 4,
   "id": "629f6a09",
   "metadata": {},
   "outputs": [],
   "source": [
    "#imput peramaters \n",
    "\n",
    "collections = ['LANDSAT/LC08/C02/T1_L2']\n",
    "\n",
    "et_reference_source = 'projects/openet/reference_et/cimis/daily'\n",
    "et_reference_band = 'etr_asce'\n",
    "et_reference_factor = 1.0\n",
    "et_reference_resample = 'nearest'\n",
    "et_reference_date_type = 'daily'\n",
    "\n",
    "start_date = '2019-01-01'\n",
    "end_date = '2019-12-31'\n",
    "\n",
    "# Only keep images with an average cloud cover less than\n",
    "\n",
    "cloud_cover = 70\n",
    "\n",
    "# Number of extra days (at start and end) to include in interpolation\n",
    "interp_days = 32\n",
    "# Interpolation method - currently only LINEAR is supported\n",
    "interp_method = 'LINEAR'\n",
    "\n",
    "test_xy = [x2, y2]\n",
    "test_point = ee.Geometry.Point(test_xy)\n",
    "\n",
    "# study_area = ee.Geometry.Rectangle(-122.00, 38.60, -121.00, 39.0)\n",
    "study_area = ee.Geometry.Rectangle(\n",
    "    test_xy[0] - 0.08, test_xy[1] - 0.04, \n",
    "    test_xy[0] + 0.08, test_xy[1] + 0.04\n",
    ")\n",
    "study_region = study_area.bounds(1, 'EPSG:4326')\n",
    "study_crs = 'EPSG:32610'"
   ]
  },
  {
   "cell_type": "code",
   "execution_count": 5,
   "id": "6b272b80",
   "metadata": {},
   "outputs": [],
   "source": [
    "#Build SSEBop Model\n",
    "model_obj = ssebop.Collection(\n",
    "    collections=collections,\n",
    "    et_reference_source=et_reference_source, \n",
    "    et_reference_band=et_reference_band,\n",
    "    et_reference_factor=et_reference_factor,\n",
    "    et_reference_resample=et_reference_resample,\n",
    "    et_reference_date_type=et_reference_date_type,\n",
    "    start_date=start_date,\n",
    "    end_date=end_date,\n",
    "    geometry=test_point,\n",
    "    cloud_cover_max=70,\n",
    "    # filter_args={},\n",
    ")"
   ]
  },
  {
   "cell_type": "code",
   "execution_count": 6,
   "id": "84d7c088",
   "metadata": {},
   "outputs": [
    {
     "name": "stdout",
     "output_type": "stream",
     "text": [
      "<class 'list'>\n"
     ]
    }
   ],
   "source": [
    "#export Lsat IDs for CCDC runs \n",
    "meta2 = model_obj.get_image_ids()\n",
    "print(type(meta2))\n",
    "len(meta2)\n",
    "\n",
    "df = pd.DataFrame(meta2)\n",
    "df.columns = [\"ID\"]\n",
    "\n",
    "# saving as CSV\n",
    "df.to_csv('colorado_forest_2019_lsatIDS.csv') "
   ]
  },
  {
   "cell_type": "markdown",
   "id": "5f8f829d",
   "metadata": {},
   "source": [
    "# Loop Through Landsat Scenes by Date and Save Eta to Disk "
   ]
  },
  {
   "cell_type": "code",
   "execution_count": 7,
   "id": "35855876",
   "metadata": {},
   "outputs": [],
   "source": [
    "ids = meta2\n",
    "\n",
    "addr = 'LANDSAT/LC08/C02/T1_L2/LC08_'\n",
    "\n",
    "for lsatid in ids:\n",
    "    \n",
    "    #Get landsat scences\n",
    "    laddr = lsatid\n",
    "    landsat_img = ee.Image(laddr)\n",
    "    landsat_crs = landsat_img.select('SR_B3').projection().getInfo()['crs']\n",
    "    landsat_region = landsat_img.geometry().bounds(1, 'EPSG:4326')\n",
    "    landsat_dt = ee.Date(landsat_img.get('system:time_start'))\n",
    "    \n",
    "    # Build the SSEBop object from the Landsat image\n",
    "    model_obj = ssebop.Image.from_landsat_c2_sr(\n",
    "    landsat_img, \n",
    "    tcorr_source='FANO',\n",
    "    et_reference_source='projects/openet/reference_et/gridmet/daily',\n",
    "    et_reference_band='etr',\n",
    "    et_reference_factor=1.0,\n",
    "    et_reference_resample='nearest',)\n",
    "    \n",
    "    #export LST to google Drive\n",
    "    desc = 'lsatLST' + lsatid[28:44]\n",
    "    lst = model_obj.lst\n",
    "    lst5070 = lst.reproject('EPSG:5070')\n",
    "    task_config = {\n",
    "        'region': landsat_region, #region.getInfo()['coordinates']\n",
    "        'crs': 'EPSG:5070',\n",
    "        'fileFormat': 'GeoTIFF',\n",
    "        'folder':'Colorado_Forest_landsat5070_LST',\n",
    "        'image': lst5070,\n",
    "        'scale':30,\n",
    "        'description': '5070_ssebop_LST',\n",
    "        'fileNamePrefix' : desc\n",
    "    }\n",
    "    task=ee.batch.Export.image.toDrive(**task_config)\n",
    "    task.start()\n",
    "    \n",
    "    \n",
    "    #export ETF to google Drive\n",
    "    desc = 'satETF' + lsatid[28:44]\n",
    "    etF = model_obj.et_fraction\n",
    "    etF5070 = etF.reproject('EPSG:5070')\n",
    "    task_config = {\n",
    "        'region': landsat_region, #region.getInfo()['coordinates']\n",
    "        'crs': 'EPSG:5070',\n",
    "        'fileFormat': 'GeoTIFF',\n",
    "        'folder':'Colorado_Forest_landsat5070_ETF',\n",
    "        'image': etF5070,\n",
    "        'scale':30,\n",
    "        'description': '5070_ssebop_ETF',\n",
    "        'fileNamePrefix' : desc\n",
    "    }\n",
    "    task=ee.batch.Export.image.toDrive(**task_config)\n",
    "    task.start()\n",
    "    \n",
    "    #export ETA to google Drive\n",
    "    desc = 'lsatETa' + lsatid[28:44]\n",
    "    eta = model_obj.et\n",
    "    eta = model_obj.et\n",
    "    eta5070 = eta.reproject('EPSG:5070')\n",
    "    task_config = {\n",
    "        'region': landsat_region, #region.getInfo()['coordinates']\n",
    "        'crs': 'EPSG:5070',\n",
    "        'fileFormat': 'GeoTIFF',\n",
    "        'folder':'Colorado_Forest_landsat5070_ETA',\n",
    "        'image': eta5070,\n",
    "        'scale':30,\n",
    "        'description': '5070_ssebop_ETa',\n",
    "        'fileNamePrefix' : desc\n",
    "    }\n",
    "    task=ee.batch.Export.image.toDrive(**task_config)\n",
    "    task.start()\n",
    "    "
   ]
  }
 ],
 "metadata": {
  "kernelspec": {
   "display_name": "Python 3 (ipykernel)",
   "language": "python",
   "name": "python3"
  },
  "language_info": {
   "codemirror_mode": {
    "name": "ipython",
    "version": 3
   },
   "file_extension": ".py",
   "mimetype": "text/x-python",
   "name": "python",
   "nbconvert_exporter": "python",
   "pygments_lexer": "ipython3",
   "version": "3.10.9"
  }
 },
 "nbformat": 4,
 "nbformat_minor": 5
}
